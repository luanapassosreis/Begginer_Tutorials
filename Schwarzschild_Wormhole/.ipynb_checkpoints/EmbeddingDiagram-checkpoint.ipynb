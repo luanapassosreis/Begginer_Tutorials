{
 "cells": [
  {
   "cell_type": "markdown",
   "metadata": {},
   "source": [
    "Embedding Diagram using a Wormhole and the Schwarzschild Metric\n",
    "======================\n",
    "\n",
    "Luana Passos Reis\n",
    "\n",
    "\n",
    "\n",
    "- Here is a nice and [short tutorial](https://www.youtube.com/watch?v=jZ952vChhuI) to learn the basics of Jupyter. To learn the basics of Python, the [following tutorial is useful](https://github.com/jrjohansson/scientific-python-lectures)."
   ]
  },
  {
   "cell_type": "markdown",
   "metadata": {},
   "source": [
    "Making sure all plotting and array modules (numpy, matplotlib) are preloaded"
   ]
  },
  {
   "cell_type": "code",
   "execution_count": 1,
   "metadata": {},
   "outputs": [
    {
     "name": "stdout",
     "output_type": "stream",
     "text": [
      "%pylab is deprecated, use %matplotlib inline and import the required libraries.\n",
      "Populating the interactive namespace from numpy and matplotlib\n"
     ]
    }
   ],
   "source": [
    "%pylab inline"
   ]
  },
  {
   "cell_type": "code",
   "execution_count": 2,
   "metadata": {},
   "outputs": [],
   "source": [
    "from mpl_toolkits import mplot3d"
   ]
  },
  {
   "cell_type": "code",
   "execution_count": null,
   "metadata": {},
   "outputs": [],
   "source": []
  },
  {
   "cell_type": "markdown",
   "metadata": {},
   "source": [
    "For this task, we will consider the spacetime geometries of a Wormhole Metric and the Schwarzschild Metric.\n",
    "\n",
    "The Wormhole metric connects two different asymptotically flat regions of spacetime—two “universes” in the language of science fiction. Notice that the wormhole metric does not represent a physically realistic spacetime as far as is known.\n",
    "\n",
    "The Schwarzschild line element describes the curved spacetime around a nonrotating black hole and we will study its physics in detail soon."
   ]
  },
  {
   "cell_type": "markdown",
   "metadata": {},
   "source": [
    "# Answer a "
   ]
  },
  {
   "cell_type": "markdown",
   "metadata": {},
   "source": [
    "#### Pick one of these spacetimes, and use the procedure outlined in the lectures to find a two-dimensional surface in three-dimensional flat space that has the same geometry as a t=const slice of this spacetime. (3 points)"
   ]
  },
  {
   "cell_type": "markdown",
   "metadata": {},
   "source": [
    "## Wormhole Metric"
   ]
  },
  {
   "cell_type": "markdown",
   "metadata": {
    "tags": []
   },
   "source": [
    "The Metric of a Wormhole is\n",
    "\n",
    "$$ ds^{2} = - dt^{2} + dr^{2} + \\left ( b^{2} + r^{2} \\right ) \\left ( d\\theta ^{2} + \\sin^{2}{\\theta} \\ d\\phi ^{2} \\right ) \\quad \\quad (1)$$\n",
    "\n",
    "\n",
    "First, we must $\\textbf{reduce}$ $\\textbf{dimensionality}$, by taking a $t=const.$ slice of this geometry, we obtain a three-dimensional spatial geometry.\n",
    "\n",
    "$$ d\\xi ^{2} =  dr^{2} + \\left ( b^{2} + r^{2} \\right ) \\left ( d\\theta ^{2} + \\sin^{2}{\\theta} \\ d\\phi ^{2} \\right ) \\quad \\quad (2)$$\n",
    "\n",
    "But still, we can reduce a little more by taking another slice, as if it was a picture of the 3D spatial geometry, it can be built up by looking at two-dimensional slices at a constant angle.\n",
    "\n",
    "\n",
    "For instance, $\\theta = \\frac{\\pi}{2}$, as it is a picture of the equatorial plane at a constant $t$.\n",
    "\n",
    "\n",
    "As a result, on the equation above we now have $dt = 0$, $d\\theta = 0$, and $\\sin{\\theta} = 1$, we may call that surface $d\\varsigma ^{2}$, and\n",
    "\n",
    "$$ d\\varsigma ^{2} = dr^{2} + \\left ( b^{2} + r^{2} \\right ) d\\phi ^{2} \\quad \\quad (3) $$\n",
    "\n",
    "Spherical symmetry implies that any other constant-angle slice has the same geometry. This geometry can be visualized as a two-dimensional surface embedded in three-dimensional flat space. Let’s find that surface.\n",
    "\n",
    "Let's locate points in flat space using cylindrical coordinates $\\left ( \\rho , \\varphi , z \\right )$ based on the z-axis. The coordinate $\\rho $ is the distance from the axis, $\\varphi $ is a polar angle around the axis, and $z$ is the distance along the axis. In order to $\\textbf{create}$ $\\textbf{a}$ $\\textbf{flat}$ $\\textbf{hyperspace}$ in cylindrical coordinates, the metric is\n",
    "\n",
    "$$ d\\varsigma ^{2} =  d\\rho ^{2} + \\rho ^{2} d\\varphi ^{2} + dz^{2} \\quad \\quad (4) $$"
   ]
  },
  {
   "cell_type": "markdown",
   "metadata": {},
   "source": [
    "A surface in flat space can be specified by giving height above the $z = 0$ plane of each point in it, $z\\left ( r , \\phi  \\right )$. We seek a function $z\\left ( r , \\phi  \\right )$ specifying a surface that has the same geometry as (3).\n",
    "\n",
    "We need to find the relation between $\\left ( \\rho , \\varphi  \\right ) \\rightarrow \\left ( r , \\phi  \\right )$, we can write\n",
    "\n",
    "$$ z = z\\left ( r , \\phi  \\right ), \\quad \\rho = \\rho\\left ( r , \\phi  \\right ), \\quad \\varphi = \\varphi \\left ( r , \\phi  \\right ) \\quad \\quad (5) $$\n",
    "\n",
    "Taking an axisymmetric surface when $\\varphi = \\phi $, and the functions $z$ and $\\rho $ to be independent of these angles,\n",
    "\n",
    "$$ z = z\\left ( r \\right ), \\quad \\rho = \\rho\\left ( r \\right ), \\quad \\varphi = \\phi \\quad (axisymmetry) \\quad \\quad (6) $$\n",
    "\n",
    "Now, for a $\\textbf{coordinate}$ $\\textbf{transformation}$, we must insert (6) into (4) and work out the differentials, finding the line element on the embedded surface"
   ]
  },
  {
   "cell_type": "markdown",
   "metadata": {},
   "source": [
    "$$ d \\varsigma ^{2} =  \\left (\\frac{d \\rho }{d r}  \\right )^{2} d r^{2} + \\rho ^{2} d \\phi ^{2} + \\left (\\frac{d z }{d r}  \\right )^{2} d r^{2} \\quad \\quad (7) $$\n",
    "\n",
    "$$ d \\varsigma ^{2} = \\left [ \\left (\\frac{d \\rho }{d r} \\right )^{2} + \\left (\\frac{d z }{d r}  \\right )^{2} \\right ] d r^{2} + \\rho ^{2} d \\phi ^{2} \\quad \\quad (8)$$\n",
    "\n",
    "Comparing (8) to (3), in which $ d\\varsigma ^{2} = dr^{2} + \\left ( b^{2} + r^{2} \\right ) d\\phi ^{2} $, in order to be equivalent, we must $\\textbf{find}$ $\\textbf{z(r)}$ $\\textbf{by}$ $\\textbf{comparing}$ $\\textbf{the}$ $\\textbf{line}$ $\\textbf{element}$.\n",
    "\n",
    "$$ \\left\\{\\begin{matrix} \\left (\\frac{d \\rho }{d r} \\right )^{2} + \\left (\\frac{d z }{d r}  \\right )^{2} = 1 \\quad \\quad (9) \\\\  \\rho ^{2} = b^{2} + r^{2} \\quad \\quad (10) \\end{matrix}\\right. $$"
   ]
  },
  {
   "cell_type": "markdown",
   "metadata": {},
   "source": [
    "Solving the Differential Equation, (10) $\\rightarrow $ (9),\n",
    "\n",
    "$$ \\rho ^{2} = b^{2} + r^{2} \\quad \\Rightarrow \\quad \\rho = \\sqrt{b^{2} + r^{2}} $$\n",
    "\n",
    "$$ \\frac{d \\rho }{d r} = \\frac{r}{\\sqrt{b^{2} + r^{2}}} \\quad and \\quad \\left (\\frac{d \\rho }{d r} \\right )^{2} = \\frac{r^{2}}{b^{2} + r^{2}} $$\n",
    "\n",
    "$$ \\therefore \\ \\left (\\frac{d \\rho }{d r} \\right )^{2} + \\left (\\frac{d z }{d r}  \\right )^{2} = 1 \\quad \\Rightarrow \\quad \\frac{r^{2}}{b^{2} + r^{2}} + \\left (\\frac{d z }{d r}  \\right )^{2} = 1 $$\n",
    "\n",
    "$$ \\left (\\frac{d z }{d r}  \\right )^{2} = 1 - \\frac{r^{2}}{b^{2} + r^{2}} \\quad \\Rightarrow \\quad \\frac{d z }{d r} = \\sqrt{1 - \\frac{r^{2}}{b^{2} + r^{2}}} $$\n",
    "\n",
    "$$ \\int d z = \\int d r \\sqrt{\\frac{b^{2} + r^{2} - r^{2}}{b^{2} + r^{2}}} \\quad \\Rightarrow \\quad \\int d z = \\int d r \\frac{b}{\\sqrt{b^{2} + r^{2}}} $$\n",
    "\n"
   ]
  },
  {
   "cell_type": "markdown",
   "metadata": {},
   "source": [
    "$$ \\therefore \\boxed{z(r) = b \\ arsinh{\\left ( \\frac{r}{b} \\right )} + C} \\quad \\quad (11) $$\n",
    "\n",
    "with the integration constant chosen so that $z$ vanishes when $r$ does."
   ]
  },
  {
   "cell_type": "markdown",
   "metadata": {},
   "source": [
    "## Schwarzschild metric"
   ]
  },
  {
   "cell_type": "markdown",
   "metadata": {},
   "source": [
    "The Schwarzschild Metric is\n",
    "\n",
    "\n",
    "$$ ds^{2} = - \\left ( 1 - \\frac{2M}{r} \\right ) dt^{2} + \\left ( 1 - \\frac{2M}{r} \\right )^{-1} dr^{2} + r^{2} \\left ( d\\theta ^{2} + \\sin^{2}{\\theta } \\ d\\phi ^{2} \\right ) \\quad \\quad (12) $$\n",
    "\n",
    "\n",
    "First, we must $\\textbf{reduce}$ $\\textbf{dimensionality}$, by taking a $t=const.$ slice of this geometry, we obtain a three-dimensional spatial geometry.\n",
    "\n",
    "\n",
    "$$ d\\xi ^{2} = \\left ( 1 - \\frac{2M}{r} \\right )^{-1} dr^{2} + r^{2} \\left ( d\\theta ^{2} + \\sin^{2}{\\theta } \\ d\\phi ^{2} \\right ) \\quad \\quad (13)$$\n",
    "\n",
    "\n",
    "But still, we can reduce a little more by taking another slice, as if it was a picture of the 3D spatial geometry, it can be built up by looking at two-dimensional slices at a constant angle.\n",
    "\n",
    "\n",
    "For instance, $\\theta = \\frac{\\pi}{2}$, as it is a picture of the equatorial plane at a constant $t$.\n",
    "\n",
    "\n",
    "As a result, on the equation above we now have $dt = 0$, $d\\theta = 0$, and $\\sin{\\theta} = 1$, we may call that surface $d\\varsigma ^{2}$, and\n",
    "\n",
    "$$ d\\varsigma ^{2} = \\left ( 1 - \\frac{2M}{r} \\right )^{-1} dr^{2} + r^{2} \\ d\\phi ^{2} \\quad \\quad (14) $$\n",
    "\n",
    "Spherical symmetry implies that any other constant-angle slice has the same geometry. This geometry can be visualized as a two-dimensional surface embedded in three-dimensional flat space. Let’s find that surface.\n",
    "\n",
    "Let's locate points in flat space using cylindrical coordinates $\\left ( \\rho , \\varphi , z \\right )$ based on the z-axis. The coordinate $\\rho $ is the distance from the axis, $\\varphi $ is a polar angle around the axis, and $z$ is the distance along the axis. In order to $\\textbf{create}$ $\\textbf{a}$ $\\textbf{flat}$ $\\textbf{hyperspace}$ in cylindrical coordinates, the metric is\n",
    "\n",
    "$$ d\\varsigma ^{2} =  d\\rho ^{2} + \\rho ^{2} d\\varphi ^{2} + dz^{2} \\quad \\quad (15) $$"
   ]
  },
  {
   "cell_type": "markdown",
   "metadata": {},
   "source": [
    "A surface in flat space can be specified by giving height above the $z = 0$ plane of each point in it, $z\\left ( r , \\phi  \\right )$. We seek a function $z\\left ( r , \\phi  \\right )$ specifying a surface that has the same geometry as (14).\n",
    "\n",
    "We need to find the relation between $\\left ( \\rho , \\varphi  \\right ) \\rightarrow \\left ( r , \\phi  \\right )$, we can write\n",
    "\n",
    "$$ z = z\\left ( r , \\phi  \\right ), \\quad \\rho = \\rho\\left ( r , \\phi  \\right ), \\quad \\varphi = \\varphi \\left ( r , \\phi  \\right ) \\quad \\quad (16) $$\n",
    "\n",
    "Taking an axisymmetric surface when $\\varphi = \\phi $, and the functions $z$ and $\\rho $ to be independent of these angles,\n",
    "\n",
    "$$ z = z\\left ( r \\right ), \\quad \\rho = \\rho\\left ( r \\right ), \\quad \\varphi = \\phi \\quad (axisymmetry) \\quad \\quad (17) $$\n",
    "\n",
    "Now, for a $\\textbf{coordinate}$ $\\textbf{transformation}$, we must insert (17) into (15) and work out the differentials, finding the line element on the embedded surface"
   ]
  },
  {
   "cell_type": "markdown",
   "metadata": {},
   "source": [
    "$$ d \\varsigma ^{2} =  \\left (\\frac{d \\rho }{d r}  \\right )^{2} d r^{2} + \\rho ^{2} d \\phi ^{2} + \\left (\\frac{d z }{d r}  \\right )^{2} d r^{2} \\quad \\quad (18) $$\n",
    "\n",
    "$$ d \\varsigma ^{2} = \\left [ \\left (\\frac{d \\rho }{d r} \\right )^{2} + \\left (\\frac{d z }{d r}  \\right )^{2} \\right ] d r^{2} + \\rho ^{2} d \\phi ^{2} \\quad \\quad (19)$$\n",
    "\n",
    "Comparing (19) to (14), in which $ d\\varsigma ^{2} = dr^{2} + \\left ( b^{2} + r^{2} \\right ) d\\phi ^{2} $, in order to be equivalent, we must $\\textbf{find}$ $\\textbf{z(r)}$ $\\textbf{by}$ $\\textbf{comparing}$ $\\textbf{the}$ $\\textbf{line}$ $\\textbf{element}$.\n",
    "\n",
    "$$ \\left\\{\\begin{matrix} \\left (\\frac{d \\rho }{d r} \\right )^{2} + \\left (\\frac{d z }{d r}  \\right )^{2} = \\left ( 1 - \\frac{2M}{r} \\right )^{-1} \\quad \\quad (20) \\\\  \\rho ^{2} = r^{2} \\quad \\quad (21) \\end{matrix}\\right. $$"
   ]
  },
  {
   "cell_type": "markdown",
   "metadata": {},
   "source": [
    "Solving the Differential Equation, (21) $\\rightarrow $ (20),\n",
    "\n",
    "$$ \\rho ^{2} = r^{2} \\quad \\Rightarrow \\quad \\rho = r $$\n",
    "\n",
    "$$ \\frac{d \\rho }{d r} = 1 \\quad and \\quad \\left (\\frac{d \\rho }{d r} \\right )^{2} = 1 $$\n",
    "\n",
    "$$ \\therefore \\quad \\left (\\frac{d \\rho }{d r} \\right )^{2} + \\left (\\frac{d z }{d r}  \\right )^{2} = \\left ( 1 - \\frac{2M}{r} \\right )^{-1}  \\quad \\Rightarrow \\quad 1 + \\left (\\frac{d z }{d r}  \\right )^{2} = \\left ( 1 - \\frac{2M}{r} \\right )^{-1} $$\n",
    "\n",
    "$$ \\left (\\frac{d z }{d r}  \\right )^{2} = \\left ( 1 - \\frac{2M}{r} \\right )^{-1} - 1 \\quad \\Rightarrow \\quad \\frac{d z }{d r} = \\sqrt{\\left ( 1 - \\frac{2M}{r} \\right )^{-1} - 1} $$\n",
    "\n",
    "$$ \\int dz =  \\int dr \\sqrt{\\left ( 1 - \\frac{2M}{r} \\right )^{-1} - 1} \\quad \\Rightarrow \\quad \\int dz =  \\int dr \\sqrt{ \\left ( \\frac{r - 2M}{r} \\right )^{-1} - 1} $$\n",
    "\n",
    "$$ \\int  dz =  \\int dr \\sqrt{ \\left ( \\frac{r}{r - 2M} \\right ) - 1} \\quad \\Rightarrow \\quad \\int dz =  \\int dr \\sqrt{\\frac{r - r + 2M }{r - 2M}} $$\n",
    "\n",
    "$$ \\int  dz =  \\int dr \\sqrt{\\frac{ 2M }{ 2M \\left (\\frac{r}{2M} - 1  \\right ) }} \\quad \\Rightarrow \\quad \\int dz =  \\int dr \\frac{ 1}{\\sqrt{ \\frac{r}{2M} - 1 }} $$"
   ]
  },
  {
   "cell_type": "markdown",
   "metadata": {},
   "source": [
    "$$ \\therefore \\boxed{z(r) = 4M \\sqrt{\\frac{r}{2M} - 1} + C} \\quad \\quad (22) $$\n",
    "\n",
    "with the integration constant chosen so that z vanishes when r does. "
   ]
  },
  {
   "cell_type": "code",
   "execution_count": null,
   "metadata": {},
   "outputs": [],
   "source": []
  },
  {
   "cell_type": "markdown",
   "metadata": {},
   "source": [
    "# Answer b"
   ]
  },
  {
   "cell_type": "markdown",
   "metadata": {},
   "source": [
    "#### Plot the surface you found in item A in 3D flat space, using Mathematica or Python. (3 pts)"
   ]
  },
  {
   "cell_type": "code",
   "execution_count": null,
   "metadata": {},
   "outputs": [],
   "source": []
  },
  {
   "cell_type": "code",
   "execution_count": 3,
   "metadata": {},
   "outputs": [],
   "source": [
    "import numpy as np"
   ]
  },
  {
   "cell_type": "markdown",
   "metadata": {},
   "source": [
    "We will define functions for z(r) in both cases.\n",
    "\n",
    "Using the Wormhole Geometry,\n",
    "\n",
    "$$ z(r) = b \\ arsinh{\\left ( \\frac{r}{b} \\right )} $$\n",
    "\n",
    "in which $ r = \\sqrt{\\rho^{2} - b^{2}} $.\n",
    "\n",
    "And the Schwarzchild Geometry,\n",
    "\n",
    "$$ z(r) = 4M \\sqrt{\\frac{r}{2M} - 1} $$\n",
    "\n",
    "in which $ r = \\rho $\n",
    "\n"
   ]
  },
  {
   "cell_type": "code",
   "execution_count": 4,
   "metadata": {},
   "outputs": [],
   "source": [
    "\n",
    "# ------ z(r) for a Wormhole Metric ------\n",
    "def z_wormho(x, y):\n",
    "    \n",
    "    r = np.sqrt(x**2 + y**2 - b**2)       # r = np.sqrt( rho**2 - b**2 )\n",
    "    \n",
    "    return b * np.arcsinh(r / b)\n",
    "\n",
    "\n",
    "# ------ z(r) for Schwarzschild Metric ------\n",
    "def z_schwar(x,y):\n",
    "    \n",
    "    r = np.sqrt(x**2 + y**2)\n",
    "    \n",
    "    return 4 * M *np.sqrt( (r/(2*M)) - 1 )\n"
   ]
  },
  {
   "cell_type": "code",
   "execution_count": null,
   "metadata": {},
   "outputs": [],
   "source": []
  },
  {
   "cell_type": "markdown",
   "metadata": {},
   "source": [
    "## Wormhole"
   ]
  },
  {
   "cell_type": "markdown",
   "metadata": {},
   "source": [
    "Creating a range of values on the x and y axis"
   ]
  },
  {
   "cell_type": "code",
   "execution_count": 5,
   "metadata": {},
   "outputs": [],
   "source": [
    "x_wo = np.linspace(-20, 20, 100)\n",
    "y_wo = np.linspace(-20, 20, 100)\n",
    "\n",
    "b = 4"
   ]
  },
  {
   "cell_type": "code",
   "execution_count": null,
   "metadata": {},
   "outputs": [
    {
     "name": "stderr",
     "output_type": "stream",
     "text": [
      "/var/folders/sk/6dg2gqpn01x3m5hwkj90qkgw0000gp/T/ipykernel_10387/2146265277.py:4: RuntimeWarning: invalid value encountered in sqrt\n",
      "  r = np.sqrt(x**2 + y**2 - b**2)       # r = np.sqrt( rho**2 - b**2 )\n"
     ]
    }
   ],
   "source": [
    "X_wo, Y_wo = np.meshgrid(x_wo, y_wo)\n",
    "\n",
    "Z_wo = z_wormho(X_wo, Y_wo)\n",
    "\n",
    "plt.figure(figsize=(8,10))\n",
    "\n",
    "ax = axes(projection='3d')\n",
    "ax.plot_surface(X_wo, Y_wo, Z_wo, rstride=1, cstride=1, cmap='plasma', edgecolor='none')\n",
    "ax.plot_surface(X_wo, Y_wo, -Z_wo, rstride=1, cstride=1, cmap='plasma', edgecolor='none')\n",
    "ax.set_title('Wormhole Surface Plot', fontsize='xx-large');\n",
    "ax.view_init(10, 40)"
   ]
  },
  {
   "cell_type": "markdown",
   "metadata": {},
   "source": [
    "In a different angle"
   ]
  },
  {
   "cell_type": "code",
   "execution_count": null,
   "metadata": {},
   "outputs": [],
   "source": [
    "plt.figure(figsize=(8,10))\n",
    "\n",
    "ax = axes(projection='3d')\n",
    "ax.plot_surface(X_wo, Y_wo, Z_wo, rstride=1, cstride=1, cmap='plasma', edgecolor='none')\n",
    "ax.plot_surface(X_wo, Y_wo, -Z_wo, rstride=1, cstride=1, cmap='plasma', edgecolor='none')\n",
    "ax.set_title('Wormhole Surface Plot (on a Different Angle)', fontsize='xx-large');\n",
    "ax.view_init(40, 30)"
   ]
  },
  {
   "cell_type": "code",
   "execution_count": null,
   "metadata": {},
   "outputs": [],
   "source": [
    "contourf(X_wo, Y_wo, Z_wo, 20, cmap='plasma')\n",
    "colorbar()"
   ]
  },
  {
   "cell_type": "code",
   "execution_count": null,
   "metadata": {},
   "outputs": [],
   "source": []
  },
  {
   "cell_type": "markdown",
   "metadata": {},
   "source": [
    "We can see that it is not differenciable in the singularity point and the values do not exist as we get closer to it, as it should be."
   ]
  },
  {
   "cell_type": "code",
   "execution_count": null,
   "metadata": {},
   "outputs": [],
   "source": []
  },
  {
   "cell_type": "markdown",
   "metadata": {},
   "source": [
    "### Transforming into cylindrical coordinates\n",
    "\n",
    "Defining a range for R and Pi"
   ]
  },
  {
   "cell_type": "code",
   "execution_count": null,
   "metadata": {},
   "outputs": [],
   "source": [
    "r_wo     = np.linspace(0, 20, 100)\n",
    "theta_wo = np.linspace(0, 2*np.pi, 100)\n",
    "\n",
    "b = 4"
   ]
  },
  {
   "cell_type": "code",
   "execution_count": null,
   "metadata": {},
   "outputs": [],
   "source": [
    "R_wo, T_wo  = np.meshgrid(r_wo, theta_wo)\n",
    "X_wo_cyl, Y_wo_cyl = R_wo * np.cos(T_wo), R_wo * np.sin(T_wo)\n",
    "\n",
    "Z_wo_cyl = z_wormho(X_wo_cyl, Y_wo_cyl)\n",
    "\n",
    "plt.figure(figsize=(8,10))\n",
    "\n",
    "ax = axes(projection='3d')\n",
    "ax.plot_surface(X_wo_cyl, Y_wo_cyl, Z_wo_cyl, rstride=1, cstride=1, cmap='plasma', edgecolor='none')\n",
    "ax.plot_surface(X_wo_cyl, Y_wo_cyl, -Z_wo_cyl, rstride=1, cstride=1, cmap='plasma', edgecolor='none')\n",
    "ax.set_title('Wormhole Surface Plot', fontsize='xx-large');\n",
    "ax.view_init(10, 40)\n",
    "\n",
    "plt.show()"
   ]
  },
  {
   "cell_type": "code",
   "execution_count": null,
   "metadata": {},
   "outputs": [],
   "source": [
    "plt.figure(figsize=(8,10))\n",
    "\n",
    "ax = axes(projection='3d')\n",
    "ax.plot_surface(X_wo_cyl, Y_wo_cyl, Z_wo_cyl, rstride=1, cstride=1, cmap='plasma', edgecolor='none')\n",
    "ax.plot_surface(X_wo_cyl, Y_wo_cyl, -Z_wo_cyl, rstride=1, cstride=1, cmap='plasma', edgecolor='none')\n",
    "ax.set_title('Wormhole Surface Plot (on a Different Angle)', fontsize='xx-large');\n",
    "ax.view_init(40, 30)"
   ]
  },
  {
   "cell_type": "code",
   "execution_count": null,
   "metadata": {},
   "outputs": [],
   "source": []
  },
  {
   "cell_type": "markdown",
   "metadata": {},
   "source": [
    "We will invert the colormap order on the bottom part, so it beacomes more cute :)"
   ]
  },
  {
   "cell_type": "code",
   "execution_count": null,
   "metadata": {},
   "outputs": [],
   "source": []
  },
  {
   "cell_type": "code",
   "execution_count": null,
   "metadata": {},
   "outputs": [],
   "source": [
    "plt.figure(figsize=(8,10))\n",
    "\n",
    "ax = axes(projection='3d')\n",
    "ax.plot_surface(X_wo_cyl, Y_wo_cyl, Z_wo_cyl, rstride=1, cstride=1, cmap='plasma', edgecolor='none')\n",
    "ax.plot_surface(X_wo_cyl, Y_wo_cyl, -Z_wo_cyl, rstride=1, cstride=1, cmap='plasma_r', edgecolor='none')\n",
    "ax.set_title('Wormhole Surface Plot', fontsize='xx-large');\n",
    "ax.view_init(10, 40)\n",
    "\n",
    "plt.show()"
   ]
  },
  {
   "cell_type": "code",
   "execution_count": null,
   "metadata": {},
   "outputs": [],
   "source": [
    "plt.figure(figsize=(8,10))\n",
    "\n",
    "ax = axes(projection='3d')\n",
    "ax.plot_surface(X_wo_cyl, Y_wo_cyl, Z_wo_cyl, rstride=1, cstride=1, cmap='plasma', edgecolor='none')\n",
    "ax.plot_surface(X_wo_cyl, Y_wo_cyl, -Z_wo_cyl, rstride=1, cstride=1, cmap='plasma_r', edgecolor='none')\n",
    "ax.set_title('Wormhole Surface Plot (on a Different Angle)', fontsize='xx-large');\n",
    "ax.view_init(40, 30)"
   ]
  },
  {
   "cell_type": "code",
   "execution_count": null,
   "metadata": {},
   "outputs": [],
   "source": []
  },
  {
   "cell_type": "markdown",
   "metadata": {},
   "source": [
    "Notice that the points where $ \\left | \\ r \\ \\right | < b $, are not differenciable, so, in order to correct that, we can start our plot right after $ b $, with an $ \\epsilon $ of distance from this point,"
   ]
  },
  {
   "cell_type": "code",
   "execution_count": null,
   "metadata": {},
   "outputs": [],
   "source": []
  },
  {
   "cell_type": "code",
   "execution_count": null,
   "metadata": {},
   "outputs": [],
   "source": [
    "epsilon = 1e-5\n",
    "\n",
    "r_w = np.linspace(b + epsilon, 20, 100)\n",
    "\n",
    "R_w, T_w = np.meshgrid(r_w, theta_wo)\n",
    "X_w, Y_w = R_w * np.cos(T_w), R_w * np.sin(T_w)\n",
    "\n",
    "Z_w = z_wormho(X_w, Y_w)\n",
    "\n",
    "plt.figure(figsize=(8,10))\n",
    "\n",
    "ax = axes(projection='3d')\n",
    "ax.plot_surface(X_w, Y_w, Z_w, rstride=1, cstride=1, cmap='plasma', edgecolor='none')\n",
    "ax.plot_surface(X_w, Y_w, -Z_w, rstride=1, cstride=1, cmap='plasma_r', edgecolor='none')\n",
    "ax.set_title('Wormhole Surface Plot', fontsize='xx-large');\n",
    "ax.view_init(10, 40)\n",
    "\n",
    "plt.show()"
   ]
  },
  {
   "cell_type": "code",
   "execution_count": null,
   "metadata": {},
   "outputs": [],
   "source": [
    "plt.figure(figsize=(8,10))\n",
    "\n",
    "ax = axes(projection='3d')\n",
    "ax.plot_surface(X_w, Y_w, Z_w, rstride=1, cstride=1, cmap='plasma', edgecolor='none')\n",
    "ax.plot_surface(X_w, Y_w, -Z_w, rstride=1, cstride=1, cmap='plasma_r', edgecolor='none')\n",
    "ax.set_title('Wormhole Surface Plot (on a Different Angle)', fontsize='xx-large');\n",
    "ax.view_init(40, 30)"
   ]
  },
  {
   "cell_type": "code",
   "execution_count": null,
   "metadata": {},
   "outputs": [],
   "source": [
    "contourf(X_w, Y_w, Z_w, 20, cmap='plasma')\n",
    "colorbar()"
   ]
  },
  {
   "cell_type": "markdown",
   "metadata": {},
   "source": [
    "Now only in one color"
   ]
  },
  {
   "cell_type": "code",
   "execution_count": null,
   "metadata": {},
   "outputs": [],
   "source": [
    "plt.figure(figsize=(8,10))\n",
    "\n",
    "ax = axes(projection='3d')\n",
    "ax.plot_surface(X_w, Y_w, Z_w, rstride=1, cstride=1, color='cyan')\n",
    "ax.plot_surface(X_w, Y_w, -Z_w, rstride=1, cstride=1, color='cyan')\n",
    "ax.set_title('Wormhole Surface Plot', fontsize='xx-large')\n",
    "ax.view_init(10, 40)\n",
    "\n",
    "plt.show()"
   ]
  },
  {
   "cell_type": "code",
   "execution_count": null,
   "metadata": {},
   "outputs": [],
   "source": [
    "plt.figure(figsize=(8,10))\n",
    "\n",
    "ax = axes(projection='3d')\n",
    "ax.plot_surface(X_w, Y_w, Z_w, rstride=1, cstride=1, color='cyan')\n",
    "ax.plot_surface(X_w, Y_w, -Z_w, rstride=1, cstride=1, color='cyan')\n",
    "ax.set_title('Wormhole Surface Plot (on a Different Angle)', fontsize='xx-large')\n",
    "ax.view_init(40, 30)"
   ]
  },
  {
   "cell_type": "code",
   "execution_count": null,
   "metadata": {},
   "outputs": [],
   "source": []
  },
  {
   "cell_type": "code",
   "execution_count": null,
   "metadata": {},
   "outputs": [],
   "source": []
  },
  {
   "cell_type": "markdown",
   "metadata": {},
   "source": [
    "## Schwarzschild (Black Hole)"
   ]
  },
  {
   "cell_type": "markdown",
   "metadata": {},
   "source": [
    "Creating a range of values on the x and y axis"
   ]
  },
  {
   "cell_type": "code",
   "execution_count": null,
   "metadata": {},
   "outputs": [],
   "source": [
    "x_sch = np.linspace(-20, 20, 100)\n",
    "y_sch = np.linspace(-20, 20, 100)\n",
    "\n",
    "M = 2"
   ]
  },
  {
   "cell_type": "code",
   "execution_count": null,
   "metadata": {},
   "outputs": [],
   "source": [
    "X_sch, Y_sch = np.meshgrid(x_sch, y_sch)\n",
    "\n",
    "Z_sch = z_schwar(X_sch, Y_sch)\n",
    "\n",
    "plt.figure(figsize=(8,10))\n",
    "\n",
    "ax = axes(projection='3d')\n",
    "ax.plot_surface(X_sch, Y_sch, Z_sch, rstride=1, cstride=1, cmap='plasma', edgecolor='none')\n",
    "ax.set_title('Schwarzschild Metric Surface Plot', fontsize='xx-large');\n",
    "ax.view_init(10, 40)"
   ]
  },
  {
   "cell_type": "code",
   "execution_count": null,
   "metadata": {},
   "outputs": [],
   "source": [
    "plt.figure(figsize=(8,10))\n",
    "\n",
    "ax = axes(projection='3d')\n",
    "ax.plot_surface(X_sch, Y_sch, Z_sch, rstride=1, cstride=1, cmap='plasma', edgecolor='none')\n",
    "ax.set_title('Schwarzschild Metric Surface Plot (on a Different Angle)', fontsize='xx-large');\n",
    "ax.view_init(40, 30)"
   ]
  },
  {
   "cell_type": "code",
   "execution_count": null,
   "metadata": {},
   "outputs": [],
   "source": [
    "contourf(X_sch, Y_sch, Z_sch, 20, cmap='plasma')\n",
    "colorbar()"
   ]
  },
  {
   "cell_type": "markdown",
   "metadata": {},
   "source": [
    "### Transforming into cylindrical coordinates\n",
    "\n",
    "Defining a range for R and Pi"
   ]
  },
  {
   "cell_type": "code",
   "execution_count": null,
   "metadata": {},
   "outputs": [],
   "source": [
    "r_sch_cyl     = np.linspace(0, 20, 100)\n",
    "theta_sch_cyl = np.linspace(0, 2*np.pi, 100)\n",
    "\n",
    "b = 2"
   ]
  },
  {
   "cell_type": "code",
   "execution_count": null,
   "metadata": {},
   "outputs": [],
   "source": [
    "R_sch_cyl, T_sch_cyl = np.meshgrid(r_sch_cyl, theta_sch_cyl)\n",
    "X_sch_cyl, Y_sch_cyl = R_sch_cyl * np.cos(T_sch_cyl), R_sch_cyl * np.sin(T_sch_cyl)\n",
    "\n",
    "Z_sch_cyl = z_schwar(X_sch_cyl, Y_sch_cyl)\n",
    "\n",
    "plt.figure(figsize=(8,10))\n",
    "\n",
    "ax = axes(projection='3d')\n",
    "ax.plot_surface(X_sch_cyl, Y_sch_cyl, Z_sch_cyl, rstride=1, cstride=1, cmap='plasma', edgecolor='none')\n",
    "ax.set_title('Schwarzschild Metric Surface Plot', fontsize='xx-large');\n",
    "ax.view_init(10, 40)\n",
    "\n",
    "plt.show()"
   ]
  },
  {
   "cell_type": "code",
   "execution_count": null,
   "metadata": {},
   "outputs": [],
   "source": [
    "plt.figure(figsize=(8,10))\n",
    "\n",
    "ax = axes(projection='3d')\n",
    "ax.plot_surface(X_sch_cyl, Y_sch_cyl, Z_sch_cyl, rstride=1, cstride=1, cmap='plasma', edgecolor='none')\n",
    "ax.set_title('Schwarzschild Metric Surface Plot (on a Different Angle)', fontsize='xx-large');\n",
    "ax.view_init(40, 30)"
   ]
  },
  {
   "cell_type": "code",
   "execution_count": null,
   "metadata": {},
   "outputs": [],
   "source": [
    "contourf(X_sch_cyl, Y_sch_cyl, Z_sch_cyl, 20, cmap='plasma')\n",
    "colorbar()"
   ]
  },
  {
   "cell_type": "markdown",
   "metadata": {},
   "source": [
    "We can see that it is not differenciable in the singularity point and the values do not exist as we get closer to it, as it should be. Notice that the $z$ axis start in $b$ for that reason, and since we are plotting only one surface, there's no need to invert the color map, neither to correct to look more beaultiful hehe :)"
   ]
  },
  {
   "cell_type": "markdown",
   "metadata": {},
   "source": [
    "But still, let's change it to only one color"
   ]
  },
  {
   "cell_type": "code",
   "execution_count": null,
   "metadata": {},
   "outputs": [],
   "source": [
    "plt.figure(figsize=(8,10))\n",
    "\n",
    "ax = axes(projection='3d')\n",
    "ax.plot_surface(X_sch_cyl, Y_sch_cyl, Z_sch_cyl, rstride=1, cstride=1, color='cyan')\n",
    "ax.set_title('Schwarzschild Metric Surface Plot', fontsize='xx-large')\n",
    "ax.view_init(10, 40)\n",
    "\n",
    "plt.show()"
   ]
  },
  {
   "cell_type": "code",
   "execution_count": null,
   "metadata": {},
   "outputs": [],
   "source": [
    "plt.figure(figsize=(8,10))\n",
    "\n",
    "ax = axes(projection='3d')\n",
    "ax.plot_surface(X_sch_cyl, Y_sch_cyl, Z_sch_cyl, rstride=1, cstride=1, color='cyan')\n",
    "ax.set_title('Schwarzschild Metric Surface Plot (on a Different Angle)', fontsize='xx-large')\n",
    "ax.view_init(40, 30)"
   ]
  },
  {
   "cell_type": "code",
   "execution_count": null,
   "metadata": {},
   "outputs": [],
   "source": []
  },
  {
   "cell_type": "code",
   "execution_count": null,
   "metadata": {},
   "outputs": [],
   "source": []
  },
  {
   "cell_type": "markdown",
   "metadata": {},
   "source": [
    "# Answer c"
   ]
  },
  {
   "cell_type": "markdown",
   "metadata": {},
   "source": [
    "### Can an object exist off the surface in the diagram? Why? (1 pts)"
   ]
  },
  {
   "cell_type": "markdown",
   "metadata": {},
   "source": [
    "No, an object cannot exist outside of the defined surface, only inside of it.\n",
    "\n",
    "\n",
    "It is a two-dimensional surface in a three-dimensional flat space that has the same geometry as a $t = const.$ slice of this spacetime with a determined line element, it is not physical, only a representation and everything that exists in the space-time should be part of the surface in the diagram, it is only made that way so we can see it's geometric properties."
   ]
  },
  {
   "cell_type": "code",
   "execution_count": null,
   "metadata": {},
   "outputs": [],
   "source": []
  },
  {
   "cell_type": "markdown",
   "metadata": {},
   "source": [
    "# Answer d"
   ]
  },
  {
   "cell_type": "markdown",
   "metadata": {},
   "source": [
    "### Can a worldline lie on the surface? Why? [hint: consider the type of separation between adjacent events] (2 pts)\n",
    "\n"
   ]
  },
  {
   "cell_type": "markdown",
   "metadata": {},
   "source": [
    "No, a worldline cannot lie on the surface.\n",
    "\n",
    "\n",
    "It is a spacelike surface and in order to define worldlines, we need to know how the position evolves with time, that we have set as a constant to obtain this geometry.\n",
    "\n",
    "As we have answered before, it is a two-dimensional surface in a three-dimensional flat space with t set as a constant."
   ]
  },
  {
   "cell_type": "code",
   "execution_count": null,
   "metadata": {},
   "outputs": [],
   "source": []
  }
 ],
 "metadata": {
  "kernelspec": {
   "display_name": "Python 3 (ipykernel)",
   "language": "python",
   "name": "python3"
  },
  "language_info": {
   "codemirror_mode": {
    "name": "ipython",
    "version": 3
   },
   "file_extension": ".py",
   "mimetype": "text/x-python",
   "name": "python",
   "nbconvert_exporter": "python",
   "pygments_lexer": "ipython3",
   "version": "3.9.7"
  }
 },
 "nbformat": 4,
 "nbformat_minor": 4
}

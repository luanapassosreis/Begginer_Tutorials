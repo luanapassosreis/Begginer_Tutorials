{
 "cells": [
  {
   "cell_type": "markdown",
   "id": "f5da139e-1880-4d4f-8c77-a482f3330438",
   "metadata": {},
   "source": [
    "# Astropy Examples\n",
    "\n",
    "Luana Passos Reis\n",
    "\n",
    "This script provides examples of how to use some features of the `astropy` library, including working with constants, table units, unit conversion, and other useful aspects."
   ]
  },
  {
   "cell_type": "code",
   "execution_count": 1,
   "id": "918fd4aa-5074-42df-964d-8a0070594e02",
   "metadata": {},
   "outputs": [],
   "source": [
    "## imports\n",
    "\n",
    "from astropy import constants as const\n",
    "from astropy import units as u\n",
    "from astropy.table import Table, Column"
   ]
  },
  {
   "cell_type": "markdown",
   "id": "20453ab9-978f-4a26-b187-f7352e970310",
   "metadata": {},
   "source": [
    "### Constants"
   ]
  },
  {
   "cell_type": "code",
   "execution_count": 2,
   "id": "4c4c7c18-cf48-480e-a7b4-7c249fa23dbb",
   "metadata": {},
   "outputs": [
    {
     "name": "stdout",
     "output_type": "stream",
     "text": [
      "Speed of light in vacuum (c):   Name   = Speed of light in vacuum\n",
      "  Value  = 299792458.0\n",
      "  Uncertainty  = 0.0\n",
      "  Unit  = m / s\n",
      "  Reference = CODATA 2018\n",
      "Gravitational constant (G):   Name   = Gravitational constant\n",
      "  Value  = 6.6743e-11\n",
      "  Uncertainty  = 1.5e-15\n",
      "  Unit  = m3 / (kg s2)\n",
      "  Reference = CODATA 2018\n",
      "Planck constant (h):   Name   = Planck constant\n",
      "  Value  = 6.62607015e-34\n",
      "  Uncertainty  = 0.0\n",
      "  Unit  = J s\n",
      "  Reference = CODATA 2018\n"
     ]
    }
   ],
   "source": [
    "print(\"Speed of light in vacuum (c):\", const.c)\n",
    "print(\"Gravitational constant (G):\", const.G)\n",
    "print(\"Planck constant (h):\", const.h)"
   ]
  },
  {
   "cell_type": "code",
   "execution_count": 3,
   "id": "5281ec4d-a97c-4700-951e-808d6814e0d7",
   "metadata": {},
   "outputs": [],
   "source": [
    "M_sun = const.M_sun"
   ]
  },
  {
   "cell_type": "code",
   "execution_count": 4,
   "id": "162e5a8b-34f6-47c9-bc30-860703d9ef42",
   "metadata": {},
   "outputs": [
    {
     "data": {
      "text/latex": [
       "$1.9884099 \\times 10^{30} \\; \\mathrm{kg}$"
      ],
      "text/plain": [
       "<<class 'astropy.constants.iau2015.IAU2015'> name='Solar mass' value=1.988409870698051e+30 uncertainty=4.468805426856864e+25 unit='kg' reference='IAU 2015 Resolution B 3 + CODATA 2018'>"
      ]
     },
     "execution_count": 4,
     "metadata": {},
     "output_type": "execute_result"
    }
   ],
   "source": [
    "M_sun"
   ]
  },
  {
   "cell_type": "markdown",
   "id": "52593fd9-ba5f-4408-99be-d2b755b62610",
   "metadata": {},
   "source": [
    "### Tables with Units"
   ]
  },
  {
   "cell_type": "code",
   "execution_count": 5,
   "id": "2e484280-ff67-431f-bc36-6eb39b58f4be",
   "metadata": {},
   "outputs": [],
   "source": [
    "## defining table columns\n",
    "distance = Column([1, 2, 3], unit=u.meter, name='Distance')\n",
    "time = Column([10, 20, 30], unit=u.second, name='Time')\n",
    "\n",
    "## create an Astropy Table\n",
    "table = Table([distance, time])"
   ]
  },
  {
   "cell_type": "code",
   "execution_count": 6,
   "id": "2955f43e-6f24-4fd6-8d12-d22d25f6cb92",
   "metadata": {},
   "outputs": [
    {
     "data": {
      "text/html": [
       "<div><i>Table length=3</i>\n",
       "<table id=\"table140390545208464\" class=\"table-striped table-bordered table-condensed\">\n",
       "<thead><tr><th>Distance</th><th>Time</th></tr></thead>\n",
       "<thead><tr><th>m</th><th>s</th></tr></thead>\n",
       "<thead><tr><th>int64</th><th>int64</th></tr></thead>\n",
       "<tr><td>1</td><td>10</td></tr>\n",
       "<tr><td>2</td><td>20</td></tr>\n",
       "<tr><td>3</td><td>30</td></tr>\n",
       "</table></div>"
      ],
      "text/plain": [
       "<Table length=3>\n",
       "Distance  Time\n",
       "   m       s  \n",
       " int64   int64\n",
       "-------- -----\n",
       "       1    10\n",
       "       2    20\n",
       "       3    30"
      ]
     },
     "execution_count": 6,
     "metadata": {},
     "output_type": "execute_result"
    }
   ],
   "source": [
    "table"
   ]
  },
  {
   "cell_type": "markdown",
   "id": "ba48b6ee-36f8-4693-ac79-d55770129ee8",
   "metadata": {},
   "source": [
    "### Unit Conversion"
   ]
  },
  {
   "cell_type": "code",
   "execution_count": 7,
   "id": "eabcb394-74b3-4612-928a-ef338a53a66a",
   "metadata": {},
   "outputs": [],
   "source": [
    "## convert distances from meters to kilometers and time from seconds to minutes\n",
    "distance_km = distance.to(u.km)\n",
    "time_min = time.to(u.minute)"
   ]
  },
  {
   "cell_type": "code",
   "execution_count": 8,
   "id": "007f9e38-c0ed-408b-b92d-b38340b8d459",
   "metadata": {},
   "outputs": [
    {
     "name": "stdout",
     "output_type": "stream",
     "text": [
      "\n",
      "Converted Units:\n",
      "Distances in kilometers: [0.001 0.002 0.003] km\n",
      "Times in minutes: [0.16666667 0.33333333 0.5       ] min\n"
     ]
    }
   ],
   "source": [
    "print(\"\\nConverted Units:\")\n",
    "print(\"Distances in kilometers:\", distance_km)\n",
    "print(\"Times in minutes:\", time_min)"
   ]
  },
  {
   "cell_type": "code",
   "execution_count": 9,
   "id": "cf12e540-5aa9-4e68-81a2-bf614e5a3830",
   "metadata": {},
   "outputs": [
    {
     "data": {
      "text/latex": [
       "$[0.16666667,~0.33333333,~0.5] \\; \\mathrm{min}$"
      ],
      "text/plain": [
       "<Quantity [0.16666667, 0.33333333, 0.5       ] min>"
      ]
     },
     "execution_count": 9,
     "metadata": {},
     "output_type": "execute_result"
    }
   ],
   "source": [
    "time_min"
   ]
  },
  {
   "cell_type": "code",
   "execution_count": 10,
   "id": "fb6f1ee5-ea1d-498c-9ff4-f3f78f9de856",
   "metadata": {},
   "outputs": [
    {
     "data": {
      "text/latex": [
       "$1.9884099 \\times 10^{33} \\; \\mathrm{g}$"
      ],
      "text/plain": [
       "<Quantity 1.98840987e+33 g>"
      ]
     },
     "execution_count": 10,
     "metadata": {},
     "output_type": "execute_result"
    }
   ],
   "source": [
    "M_sun.to('g')"
   ]
  },
  {
   "cell_type": "markdown",
   "id": "59a2b486-d70d-4fac-a49f-744fef9dd5a5",
   "metadata": {},
   "source": [
    "### Adding Columns with Computed Quantities"
   ]
  },
  {
   "cell_type": "code",
   "execution_count": 11,
   "id": "3fe18eca-a415-4ab5-a0a3-c178e13401f2",
   "metadata": {},
   "outputs": [],
   "source": [
    "## calculate and add a new column for speed (distance/time)\n",
    "speed = distance / time\n",
    "speed.name = 'Speed'"
   ]
  },
  {
   "cell_type": "code",
   "execution_count": 12,
   "id": "32df8840-624d-4922-bda2-99e276611f37",
   "metadata": {},
   "outputs": [],
   "source": [
    "## add the new column to the table\n",
    "table.add_column(speed)"
   ]
  },
  {
   "cell_type": "code",
   "execution_count": 13,
   "id": "ab7ec455-9cc1-493f-b02f-46cfb0d4ead6",
   "metadata": {},
   "outputs": [],
   "source": [
    "# print(\"\\nTable with computed speed:\")\n",
    "# print(table)"
   ]
  },
  {
   "cell_type": "code",
   "execution_count": 14,
   "id": "c317c409-28b4-43c5-a6ff-bb8c49fe1fb6",
   "metadata": {},
   "outputs": [
    {
     "data": {
      "text/html": [
       "<div><i>Table length=3</i>\n",
       "<table id=\"table140390545208464\" class=\"table-striped table-bordered table-condensed\">\n",
       "<thead><tr><th>Distance</th><th>Time</th><th>Speed</th></tr></thead>\n",
       "<thead><tr><th>m</th><th>s</th><th>m</th></tr></thead>\n",
       "<thead><tr><th>int64</th><th>int64</th><th>float64</th></tr></thead>\n",
       "<tr><td>1</td><td>10</td><td>0.1</td></tr>\n",
       "<tr><td>2</td><td>20</td><td>0.1</td></tr>\n",
       "<tr><td>3</td><td>30</td><td>0.1</td></tr>\n",
       "</table></div>"
      ],
      "text/plain": [
       "<Table length=3>\n",
       "Distance  Time  Speed \n",
       "   m       s      m   \n",
       " int64   int64 float64\n",
       "-------- ----- -------\n",
       "       1    10     0.1\n",
       "       2    20     0.1\n",
       "       3    30     0.1"
      ]
     },
     "execution_count": 14,
     "metadata": {},
     "output_type": "execute_result"
    }
   ],
   "source": [
    "table"
   ]
  },
  {
   "cell_type": "markdown",
   "id": "1241c8dd-f5b2-4bc4-936f-807fa195482e",
   "metadata": {},
   "source": [
    "### Combining Quantities with Different Units"
   ]
  },
  {
   "cell_type": "code",
   "execution_count": 15,
   "id": "d3ab66c2-28ca-4979-b27f-afa921fa42f4",
   "metadata": {},
   "outputs": [],
   "source": [
    "## calculate kinetic energy\n",
    "\n",
    "mass = 5 * u.kg\n",
    "velocity = 10 * u.m / u.s\n",
    "kinetic_energy = 0.5 * mass * velocity**2"
   ]
  },
  {
   "cell_type": "code",
   "execution_count": 16,
   "id": "58450c48-74f9-41b9-b003-1a2755ec7065",
   "metadata": {},
   "outputs": [
    {
     "name": "stdout",
     "output_type": "stream",
     "text": [
      "\n",
      "Kinetic energy of an object with mass 5 kg and velocity 10 m/s:\n",
      "250.0 kg m2 / s2\n"
     ]
    }
   ],
   "source": [
    "print(\"\\nKinetic energy of an object with mass 5 kg and velocity 10 m/s:\")\n",
    "print(kinetic_energy)"
   ]
  },
  {
   "cell_type": "markdown",
   "id": "fae4737d-e1d3-4600-a33e-9f116f33fa21",
   "metadata": {},
   "source": [
    "### Handling Astronomical Quantities"
   ]
  },
  {
   "cell_type": "code",
   "execution_count": 17,
   "id": "fc5dcfc9-4331-4238-ae00-260e6af06dbc",
   "metadata": {},
   "outputs": [],
   "source": [
    "from astropy.coordinates import SkyCoord\n",
    "\n",
    "## define a coordinate in the sky\n",
    "coord = SkyCoord('02h31m49.09s +89d15m50.8s', frame='icrs')"
   ]
  },
  {
   "cell_type": "code",
   "execution_count": 18,
   "id": "9817f4a8-d2f5-44b9-b6a7-4b0e188ea3f2",
   "metadata": {},
   "outputs": [
    {
     "name": "stdout",
     "output_type": "stream",
     "text": [
      "\n",
      "Astronomical coordinate (ICRS):\n",
      "<SkyCoord (ICRS): (ra, dec) in deg\n",
      "    (37.95454167, 89.26411111)>\n"
     ]
    }
   ],
   "source": [
    "print(\"\\nAstronomical coordinate (ICRS):\")\n",
    "print(coord)"
   ]
  },
  {
   "cell_type": "code",
   "execution_count": 19,
   "id": "c542972c-2eb6-431f-8802-5f53599d710c",
   "metadata": {},
   "outputs": [],
   "source": [
    "## convert to galactic coordinates\n",
    "galactic_coord = coord.galactic"
   ]
  },
  {
   "cell_type": "code",
   "execution_count": 20,
   "id": "d7827ef2-6d25-4b14-8d4d-73e2d757a6be",
   "metadata": {},
   "outputs": [
    {
     "name": "stdout",
     "output_type": "stream",
     "text": [
      "\n",
      "Galactic coordinate:\n",
      "<SkyCoord (Galactic): (l, b) in deg\n",
      "    (123.28054841, 26.46139782)>\n"
     ]
    }
   ],
   "source": [
    "print(\"\\nGalactic coordinate:\")\n",
    "print(galactic_coord)"
   ]
  },
  {
   "cell_type": "markdown",
   "id": "79bb7b59-ea4e-4a07-91ac-2e94801e5fa2",
   "metadata": {},
   "source": [
    "### Time and Dates"
   ]
  },
  {
   "cell_type": "code",
   "execution_count": 21,
   "id": "8d16563f-2111-4907-a025-a121a4072e40",
   "metadata": {},
   "outputs": [],
   "source": [
    "from astropy.time import Time\n",
    "\n",
    "## define a specific time\n",
    "t = Time('2023-08-02T12:00:00')"
   ]
  },
  {
   "cell_type": "code",
   "execution_count": 22,
   "id": "bb8348f5-593e-4cde-981d-5bc2beb4d681",
   "metadata": {},
   "outputs": [
    {
     "name": "stdout",
     "output_type": "stream",
     "text": [
      "\n",
      "Time object:\n",
      "2023-08-02T12:00:00.000\n"
     ]
    }
   ],
   "source": [
    "print(\"\\nTime object:\")\n",
    "print(t)"
   ]
  },
  {
   "cell_type": "code",
   "execution_count": 23,
   "id": "772f743c-80bf-4e7f-9c8b-aa2d456caad6",
   "metadata": {},
   "outputs": [],
   "source": [
    "## get current time\n",
    "now = Time.now()"
   ]
  },
  {
   "cell_type": "code",
   "execution_count": 24,
   "id": "516b674a-745a-4c7d-8a16-294309c6832b",
   "metadata": {},
   "outputs": [
    {
     "name": "stdout",
     "output_type": "stream",
     "text": [
      "Current time:\n",
      "2024-08-02 10:53:32.460844\n"
     ]
    }
   ],
   "source": [
    "print(\"Current time:\")\n",
    "print(now)"
   ]
  },
  {
   "cell_type": "markdown",
   "id": "af28544d-8025-425a-86c8-d42fdd09616d",
   "metadata": {},
   "source": [
    "### Working with Cosmology"
   ]
  },
  {
   "cell_type": "code",
   "execution_count": 25,
   "id": "f5e017a2-f5fc-40ea-9564-6d62a12dd660",
   "metadata": {},
   "outputs": [],
   "source": [
    "from astropy.cosmology import Planck18\n",
    "\n",
    "## calculate distance to an object at redshift z=0.5\n",
    "z = 0.5\n",
    "distance = Planck18.luminosity_distance(z)"
   ]
  },
  {
   "cell_type": "code",
   "execution_count": 26,
   "id": "76f2c096-286a-4c5d-9c72-d27752923639",
   "metadata": {},
   "outputs": [
    {
     "name": "stdout",
     "output_type": "stream",
     "text": [
      "\n",
      "Luminosity distance to an object at z=0.5:\n",
      "2919.6249521806776 Mpc\n"
     ]
    }
   ],
   "source": [
    "print(\"\\nLuminosity distance to an object at z=0.5:\")\n",
    "print(distance)"
   ]
  },
  {
   "cell_type": "code",
   "execution_count": 27,
   "id": "b28c882c-262e-4cc9-919e-c191165dee06",
   "metadata": {},
   "outputs": [
    {
     "name": "stdout",
     "output_type": "stream",
     "text": [
      "\n",
      "Table saved to 'example_table.fits'\n"
     ]
    }
   ],
   "source": [
    "## save the table to a file\n",
    "table.write('example_table.fits', format='fits', overwrite=True)\n",
    "print(\"\\nTable saved to 'example_table.fits'\")"
   ]
  },
  {
   "cell_type": "code",
   "execution_count": 28,
   "id": "2da8a0ec-e9a7-4414-afe4-f00ecc74bd7f",
   "metadata": {},
   "outputs": [],
   "source": [
    "## load the table from the file\n",
    "loaded_table = Table.read('example_table.fits', format='fits')"
   ]
  },
  {
   "cell_type": "code",
   "execution_count": 29,
   "id": "45889d01-b58b-45c5-baac-6357519711ef",
   "metadata": {},
   "outputs": [
    {
     "name": "stdout",
     "output_type": "stream",
     "text": [
      "\n",
      "Loaded table from 'example_table.fits':\n",
      "Distance Time Speed\n",
      "   m      s     m  \n",
      "-------- ---- -----\n",
      "       1   10   0.1\n",
      "       2   20   0.1\n",
      "       3   30   0.1\n"
     ]
    }
   ],
   "source": [
    "print(\"\\nLoaded table from 'example_table.fits':\")\n",
    "print(loaded_table)"
   ]
  },
  {
   "cell_type": "code",
   "execution_count": 30,
   "id": "4eefc176-5d57-4c12-8e8b-8397704e801e",
   "metadata": {},
   "outputs": [
    {
     "data": {
      "text/html": [
       "<div><i>Table length=3</i>\n",
       "<table id=\"table140391383250208\" class=\"table-striped table-bordered table-condensed\">\n",
       "<thead><tr><th>Distance</th><th>Time</th><th>Speed</th></tr></thead>\n",
       "<thead><tr><th>m</th><th>s</th><th>m</th></tr></thead>\n",
       "<thead><tr><th>int64</th><th>int64</th><th>float64</th></tr></thead>\n",
       "<tr><td>1</td><td>10</td><td>0.1</td></tr>\n",
       "<tr><td>2</td><td>20</td><td>0.1</td></tr>\n",
       "<tr><td>3</td><td>30</td><td>0.1</td></tr>\n",
       "</table></div>"
      ],
      "text/plain": [
       "<Table length=3>\n",
       "Distance  Time  Speed \n",
       "   m       s      m   \n",
       " int64   int64 float64\n",
       "-------- ----- -------\n",
       "       1    10     0.1\n",
       "       2    20     0.1\n",
       "       3    30     0.1"
      ]
     },
     "execution_count": 30,
     "metadata": {},
     "output_type": "execute_result"
    }
   ],
   "source": [
    "loaded_table"
   ]
  },
  {
   "cell_type": "code",
   "execution_count": null,
   "id": "6dc8a65a-e581-4ac3-a4b5-fcbf45397797",
   "metadata": {},
   "outputs": [],
   "source": []
  }
 ],
 "metadata": {
  "kernelspec": {
   "display_name": "Python 3 (ipykernel)",
   "language": "python",
   "name": "python3"
  },
  "language_info": {
   "codemirror_mode": {
    "name": "ipython",
    "version": 3
   },
   "file_extension": ".py",
   "mimetype": "text/x-python",
   "name": "python",
   "nbconvert_exporter": "python",
   "pygments_lexer": "ipython3",
   "version": "3.9.7"
  }
 },
 "nbformat": 4,
 "nbformat_minor": 5
}
